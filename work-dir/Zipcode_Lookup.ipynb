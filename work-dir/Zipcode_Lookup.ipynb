{
 "cells": [
  {
   "cell_type": "code",
   "execution_count": 1,
   "metadata": {},
   "outputs": [],
   "source": [
    "from uszipcode import Zipcode\n",
    "from uszipcode import SearchEngine\n",
    "search = SearchEngine(simple_zipcode=True)"
   ]
  },
  {
   "cell_type": "code",
   "execution_count": 2,
   "metadata": {},
   "outputs": [],
   "source": [
    "results = search.by_coordinates(34.074044, -84.556535, radius=10, returns=1)"
   ]
  },
  {
   "cell_type": "code",
   "execution_count": 3,
   "metadata": {},
   "outputs": [
    {
     "name": "stdout",
     "output_type": "stream",
     "text": [
      "[SimpleZipcode(zipcode='30144', zipcode_type='Standard', major_city='Kennesaw', post_office_city='Kennesaw, GA', common_city_list=['Kennesaw'], county='Cobb County', state='GA', lat=34.03, lng=-84.6, timezone='Eastern', radius_in_miles=5.0, area_code_list=['678'], population=52252, population_density=2315.0, land_area_in_sqmi=22.57, water_area_in_sqmi=0.21, housing_units=20357, occupied_housing_units=19030, median_home_value=168900, median_household_income=59758, bounds_west=-84.675536, bounds_east=-84.520518, bounds_north=34.076002, bounds_south=33.990528)]\n"
     ]
    }
   ],
   "source": [
    "print(results)"
   ]
  },
  {
   "cell_type": "code",
   "execution_count": 4,
   "metadata": {},
   "outputs": [
    {
     "name": "stdout",
     "output_type": "stream",
     "text": [
      "<class 'list'>\n"
     ]
    }
   ],
   "source": [
    "print(type(results))"
   ]
  },
  {
   "cell_type": "code",
   "execution_count": 5,
   "metadata": {},
   "outputs": [
    {
     "name": "stdout",
     "output_type": "stream",
     "text": [
      "1\n"
     ]
    }
   ],
   "source": [
    "print(len(results))"
   ]
  },
  {
   "cell_type": "code",
   "execution_count": 6,
   "metadata": {},
   "outputs": [],
   "source": [
    "x = results[0]"
   ]
  },
  {
   "cell_type": "raw",
   "metadata": {},
   "source": [
    "print(x)"
   ]
  },
  {
   "cell_type": "code",
   "execution_count": 7,
   "metadata": {},
   "outputs": [
    {
     "name": "stdout",
     "output_type": "stream",
     "text": [
      "[SimpleZipcode(zipcode='30144', zipcode_type='Standard', major_city='Kennesaw', post_office_city='Kennesaw, GA', common_city_list=['Kennesaw'], county='Cobb County', state='GA', lat=34.03, lng=-84.6, timezone='Eastern', radius_in_miles=5.0, area_code_list=['678'], population=52252, population_density=2315.0, land_area_in_sqmi=22.57, water_area_in_sqmi=0.21, housing_units=20357, occupied_housing_units=19030, median_home_value=168900, median_household_income=59758, bounds_west=-84.675536, bounds_east=-84.520518, bounds_north=34.076002, bounds_south=33.990528)]\n"
     ]
    }
   ],
   "source": [
    "print(results)"
   ]
  },
  {
   "cell_type": "code",
   "execution_count": 8,
   "metadata": {},
   "outputs": [
    {
     "name": "stdout",
     "output_type": "stream",
     "text": [
      "[SimpleZipcode(zipcode='30144', zipcode_type='Standard', major_city='Kennesaw', post_office_city='Kennesaw, GA', common_city_list=['Kennesaw'], county='Cobb County', state='GA', lat=34.03, lng=-84.6, timezone='Eastern', radius_in_miles=5.0, area_code_list=['678'], population=52252, population_density=2315.0, land_area_in_sqmi=22.57, water_area_in_sqmi=0.21, housing_units=20357, occupied_housing_units=19030, median_home_value=168900, median_household_income=59758, bounds_west=-84.675536, bounds_east=-84.520518, bounds_north=34.076002, bounds_south=33.990528)]\n"
     ]
    }
   ],
   "source": [
    "print(results)"
   ]
  },
  {
   "cell_type": "code",
   "execution_count": 9,
   "metadata": {},
   "outputs": [
    {
     "name": "stdout",
     "output_type": "stream",
     "text": [
      "<class 'list'>\n"
     ]
    }
   ],
   "source": [
    "print(type(results))"
   ]
  },
  {
   "cell_type": "code",
   "execution_count": 10,
   "metadata": {},
   "outputs": [
    {
     "name": "stdout",
     "output_type": "stream",
     "text": [
      "SimpleZipcode(zipcode='30144', zipcode_type='Standard', major_city='Kennesaw', post_office_city='Kennesaw, GA', common_city_list=['Kennesaw'], county='Cobb County', state='GA', lat=34.03, lng=-84.6, timezone='Eastern', radius_in_miles=5.0, area_code_list=['678'], population=52252, population_density=2315.0, land_area_in_sqmi=22.57, water_area_in_sqmi=0.21, housing_units=20357, occupied_housing_units=19030, median_home_value=168900, median_household_income=59758, bounds_west=-84.675536, bounds_east=-84.520518, bounds_north=34.076002, bounds_south=33.990528)\n"
     ]
    }
   ],
   "source": [
    "print(results[0])"
   ]
  },
  {
   "cell_type": "code",
   "execution_count": 11,
   "metadata": {},
   "outputs": [],
   "source": [
    "y = results[0]"
   ]
  },
  {
   "cell_type": "code",
   "execution_count": 13,
   "metadata": {},
   "outputs": [
    {
     "name": "stdout",
     "output_type": "stream",
     "text": [
      "SimpleZipcode(zipcode='30144', zipcode_type='Standard', major_city='Kennesaw', post_office_city='Kennesaw, GA', common_city_list=['Kennesaw'], county='Cobb County', state='GA', lat=34.03, lng=-84.6, timezone='Eastern', radius_in_miles=5.0, area_code_list=['678'], population=52252, population_density=2315.0, land_area_in_sqmi=22.57, water_area_in_sqmi=0.21, housing_units=20357, occupied_housing_units=19030, median_home_value=168900, median_household_income=59758, bounds_west=-84.675536, bounds_east=-84.520518, bounds_north=34.076002, bounds_south=33.990528)\n"
     ]
    }
   ],
   "source": [
    "print(y)"
   ]
  },
  {
   "cell_type": "code",
   "execution_count": 14,
   "metadata": {},
   "outputs": [
    {
     "name": "stdout",
     "output_type": "stream",
     "text": [
      "<class 'uszipcode.model.SimpleZipcode'>\n"
     ]
    }
   ],
   "source": [
    "print(type(y))"
   ]
  },
  {
   "cell_type": "code",
   "execution_count": 16,
   "metadata": {},
   "outputs": [
    {
     "data": {
      "text/plain": [
       "'30144'"
      ]
     },
     "execution_count": 16,
     "metadata": {},
     "output_type": "execute_result"
    }
   ],
   "source": [
    "y.zipcode"
   ]
  },
  {
   "cell_type": "code",
   "execution_count": 18,
   "metadata": {},
   "outputs": [],
   "source": [
    "des = {}"
   ]
  },
  {
   "cell_type": "code",
   "execution_count": 22,
   "metadata": {},
   "outputs": [
    {
     "name": "stdout",
     "output_type": "stream",
     "text": [
      "<class 'dict'>\n"
     ]
    }
   ],
   "source": [
    "import json\n",
    "with open('test2.json', encoding=\"utf8\") as json_data:\n",
    "    d = json.load(json_data)\n",
    "    json_data.close()\n",
    "    \n",
    "print(type(d))"
   ]
  },
  {
   "cell_type": "code",
   "execution_count": 13,
   "metadata": {},
   "outputs": [
    {
     "name": "stdout",
     "output_type": "stream",
     "text": [
      "<class '_io.TextIOWrapper'>\n"
     ]
    }
   ],
   "source": [
    "print(type(json_data))"
   ]
  },
  {
   "cell_type": "code",
   "execution_count": 19,
   "metadata": {},
   "outputs": [],
   "source": [
    "import collections\n",
    "import datetime\n",
    "import time\n",
    "import dateutil.parser\n",
    "\n",
    "def flatten(lst):\n",
    "    \"\"\"Helper function used to massage the raw tweet data.\"\"\"\n",
    "    for el in lst:\n",
    "        if (isinstance(el, collections.Iterable) and\n",
    "                not isinstance(el, basestring)):\n",
    "            for sub in flatten(el):\n",
    "                yield sub\n",
    "        else:\n",
    "            yield el\n",
    "\n",
    "def ziplookip(lat, long):\n",
    "    zipsearch = search.by_coordinates(lat, long, radius = 10, returns = 1)\n",
    "    return zipsearch[0].zipcode\n",
    "\n",
    "def cleanup(data):\n",
    "    \"\"\"Do some data massaging.\"\"\"\n",
    "    if isinstance(data, dict):\n",
    "        newdict = {}\n",
    "        for k, v in data.items():\n",
    "            if (k == 'coordinates') and isinstance(v, list):\n",
    "                # flatten list\n",
    "                long = v[0]\n",
    "                print(long)\n",
    "                lat = v[1]\n",
    "                print(lat)\n",
    "                newdict[k] = list(flatten(v))\n",
    "                newdict['zipcode'] = ziplookip(lat, long)\n",
    "                \n",
    "            elif k == 'created_at' and v:\n",
    "                newdict[k] = str(dateutil.parser.parse(v))\n",
    "            # temporarily, ignore some fields not supported by the\n",
    "            # current BQ schema.\n",
    "            # TODO: update BigQuery schema\n",
    "            elif (k == 'video_info' or k == 'scopes' or k == 'withheld_in_countries'\n",
    "                  or k == 'is_quote_status' or 'source_user_id' in k\n",
    "                  or k == ''\n",
    "                  or 'quoted_status' in k or 'display_text_range' in k or 'extended_tweet' in k\n",
    "                  or 'media' in k):\n",
    "                pass\n",
    "            elif v is False:\n",
    "                newdict[k] = v\n",
    "            else:\n",
    "                if k and v:\n",
    "                    newdict[k] = cleanup(v)\n",
    "        return newdict\n",
    "    elif isinstance(data, list):\n",
    "        newlist = []\n",
    "        for item in data:\n",
    "            newdata = cleanup(item)\n",
    "            if newdata:\n",
    "                newlist.append(newdata)\n",
    "        return newlist\n",
    "    else:\n",
    "        return data"
   ]
  },
  {
   "cell_type": "code",
   "execution_count": 20,
   "metadata": {},
   "outputs": [
    {
     "name": "stdout",
     "output_type": "stream",
     "text": [
      "-80.356354\n",
      "25.806057\n"
     ]
    },
    {
     "data": {
      "text/plain": [
       "{'created_at': '2018-11-27 18:19:27+00:00',\n",
       " 'id': '1067483055080775680',\n",
       " 'id_str': '1067483055080775680',\n",
       " 'text': \"RT @itsbarbielx: Do y'all report your friends when they do rapey shit? or your homeboy who sells fentanyl cut cocaine? or your other boy th…\",\n",
       " 'source': '<a href=\"http://twitter.com/download/iphone\" rel=\"nofollow\">Twitter for iPhone</a>',\n",
       " 'truncated': False,\n",
       " 'user': {'id': '1604723990',\n",
       "  'id_str': '1604723990',\n",
       "  'name': 'Lupita ✨',\n",
       "  'screen_name': 'lupitaa_17',\n",
       "  'location': 'Detroit, MI',\n",
       "  'description': '18 😛| HFC 📚',\n",
       "  'protected': False,\n",
       "  'verified': False,\n",
       "  'followers_count': '1547',\n",
       "  'friends_count': '990',\n",
       "  'listed_count': '2',\n",
       "  'favourites_count': '42375',\n",
       "  'statuses_count': '50397',\n",
       "  'created_at': '2013-07-19 00:57:44+00:00',\n",
       "  'geo_enabled': True,\n",
       "  'lang': 'en',\n",
       "  'contributors_enabled': False,\n",
       "  'is_translator': False,\n",
       "  'translator_type': 'none',\n",
       "  'profile_background_color': 'C0DEED',\n",
       "  'profile_background_image_url': 'http://abs.twimg.com/images/themes/theme1/bg.png',\n",
       "  'profile_background_image_url_https': 'https://abs.twimg.com/images/themes/theme1/bg.png',\n",
       "  'profile_background_tile': False,\n",
       "  'profile_link_color': '1DA1F2',\n",
       "  'profile_sidebar_border_color': 'C0DEED',\n",
       "  'profile_sidebar_fill_color': 'DDEEF6',\n",
       "  'profile_text_color': '333333',\n",
       "  'profile_use_background_image': True,\n",
       "  'profile_image_url': 'http://pbs.twimg.com/profile_images/1057569127815147520/PQqD5MP3_normal.jpg',\n",
       "  'profile_image_url_https': 'https://pbs.twimg.com/profile_images/1057569127815147520/PQqD5MP3_normal.jpg',\n",
       "  'profile_banner_url': 'https://pbs.twimg.com/profile_banners/1604723990/1538624865',\n",
       "  'default_profile': True,\n",
       "  'default_profile_image': False},\n",
       " 'retweeted_status': {'created_at': '2018-11-25 21:58:29+00:00',\n",
       "  'id': '1066813398158053376',\n",
       "  'id_str': '1066813398158053376',\n",
       "  'text': \"Do y'all report your friends when they do rapey shit? or your homeboy who sells fentanyl cut cocaine? or your other… https://t.co/8iRLa29chH\",\n",
       "  'source': '<a href=\"http://twitter.com/download/iphone\" rel=\"nofollow\">Twitter for iPhone</a>',\n",
       "  'truncated': True,\n",
       "  'reply_count': '64',\n",
       "  'quote_count': '268',\n",
       "  'user': {'id': '872824656625061888',\n",
       "   'id_str': '872824656625061888',\n",
       "   'name': 'Barbie ॐ',\n",
       "   'screen_name': 'itsbarbielx',\n",
       "   'location': 'Miami, FL',\n",
       "   'description': 'army vet || ⚖️ || @ticopullsnohoes🖤',\n",
       "   'protected': False,\n",
       "   'verified': False,\n",
       "   'followers_count': '504',\n",
       "   'friends_count': '285',\n",
       "   'listed_count': '2',\n",
       "   'favourites_count': '2617',\n",
       "   'statuses_count': '27968',\n",
       "   'created_at': '2017-06-08 14:36:29+00:00',\n",
       "   'geo_enabled': True,\n",
       "   'lang': 'en',\n",
       "   'contributors_enabled': False,\n",
       "   'is_translator': False,\n",
       "   'translator_type': 'none',\n",
       "   'profile_background_color': 'F5F8FA',\n",
       "   'profile_background_tile': False,\n",
       "   'profile_link_color': '1DA1F2',\n",
       "   'profile_sidebar_border_color': 'C0DEED',\n",
       "   'profile_sidebar_fill_color': 'DDEEF6',\n",
       "   'profile_text_color': '333333',\n",
       "   'profile_use_background_image': True,\n",
       "   'profile_image_url': 'http://pbs.twimg.com/profile_images/1066137571506429953/2C3Tfg8m_normal.jpg',\n",
       "   'profile_image_url_https': 'https://pbs.twimg.com/profile_images/1066137571506429953/2C3Tfg8m_normal.jpg',\n",
       "   'profile_banner_url': 'https://pbs.twimg.com/profile_banners/872824656625061888/1542262613',\n",
       "   'default_profile': True,\n",
       "   'default_profile_image': False},\n",
       "  'place': {'id': '629f4a26fed69cd3',\n",
       "   'url': 'https://api.twitter.com/1.1/geo/id/629f4a26fed69cd3.json',\n",
       "   'place_type': 'city',\n",
       "   'name': 'Hialeah',\n",
       "   'full_name': 'Hialeah, FL',\n",
       "   'country_code': 'US',\n",
       "   'country': 'United States',\n",
       "   'bounding_box': {'type': 'Polygon',\n",
       "    'coordinates': [-80.356354,\n",
       "     25.806057,\n",
       "     -80.356354,\n",
       "     25.909407,\n",
       "     -80.252971,\n",
       "     25.909407,\n",
       "     -80.252971,\n",
       "     25.806057],\n",
       "    'zipcode': '33172'}},\n",
       "  'retweet_count': '4285',\n",
       "  'favorite_count': '14483',\n",
       "  'entities': {'urls': [{'url': 'https://t.co/8iRLa29chH',\n",
       "     'expanded_url': 'https://twitter.com/i/web/status/1066813398158053376',\n",
       "     'display_url': 'twitter.com/i/web/status/1…',\n",
       "     'indices': ['117', '140']}]},\n",
       "  'favorited': False,\n",
       "  'retweeted': False,\n",
       "  'filter_level': 'low',\n",
       "  'lang': 'en'},\n",
       " 'entities': {'user_mentions': [{'screen_name': 'itsbarbielx',\n",
       "    'name': 'Barbie ॐ',\n",
       "    'id': '872824656625061888',\n",
       "    'id_str': '872824656625061888',\n",
       "    'indices': ['3', '15']}]},\n",
       " 'favorited': False,\n",
       " 'retweeted': False,\n",
       " 'timestamp_ms': '1543342767864',\n",
       " 'filter_level': 'low',\n",
       " 'lang': 'en'}"
      ]
     },
     "execution_count": 20,
     "metadata": {},
     "output_type": "execute_result"
    }
   ],
   "source": [
    "cleanup(d)"
   ]
  },
  {
   "cell_type": "code",
   "execution_count": 105,
   "metadata": {},
   "outputs": [
    {
     "name": "stdout",
     "output_type": "stream",
     "text": [
      "long -80.356354 lat 25.806057\n"
     ]
    }
   ],
   "source": [
    "new_values = cleanup"
   ]
  },
  {
   "cell_type": "code",
   "execution_count": 106,
   "metadata": {},
   "outputs": [
    {
     "name": "stdout",
     "output_type": "stream",
     "text": [
      "{'created_at': '2018-11-27 18:19:27+00:00', 'id': '1067483055080775680', 'id_str': '1067483055080775680', 'text': \"RT @itsbarbielx: Do y'all report your friends when they do rapey shit? or your homeboy who sells fentanyl cut cocaine? or your other boy th…\", 'source': '<a href=\"http://twitter.com/download/iphone\" rel=\"nofollow\">Twitter for iPhone</a>', 'truncated': False, 'user': {'id': '1604723990', 'id_str': '1604723990', 'name': 'Lupita ✨', 'screen_name': 'lupitaa_17', 'location': 'Detroit, MI', 'description': '18 😛| HFC 📚', 'protected': False, 'verified': False, 'followers_count': '1547', 'friends_count': '990', 'listed_count': '2', 'favourites_count': '42375', 'statuses_count': '50397', 'created_at': '2013-07-19 00:57:44+00:00', 'geo_enabled': True, 'lang': 'en', 'contributors_enabled': False, 'is_translator': False, 'translator_type': 'none', 'profile_background_color': 'C0DEED', 'profile_background_image_url': 'http://abs.twimg.com/images/themes/theme1/bg.png', 'profile_background_image_url_https': 'https://abs.twimg.com/images/themes/theme1/bg.png', 'profile_background_tile': False, 'profile_link_color': '1DA1F2', 'profile_sidebar_border_color': 'C0DEED', 'profile_sidebar_fill_color': 'DDEEF6', 'profile_text_color': '333333', 'profile_use_background_image': True, 'profile_image_url': 'http://pbs.twimg.com/profile_images/1057569127815147520/PQqD5MP3_normal.jpg', 'profile_image_url_https': 'https://pbs.twimg.com/profile_images/1057569127815147520/PQqD5MP3_normal.jpg', 'profile_banner_url': 'https://pbs.twimg.com/profile_banners/1604723990/1538624865', 'default_profile': True, 'default_profile_image': False}, 'retweeted_status': {'created_at': '2018-11-25 21:58:29+00:00', 'id': '1066813398158053376', 'id_str': '1066813398158053376', 'text': \"Do y'all report your friends when they do rapey shit? or your homeboy who sells fentanyl cut cocaine? or your other… https://t.co/8iRLa29chH\", 'source': '<a href=\"http://twitter.com/download/iphone\" rel=\"nofollow\">Twitter for iPhone</a>', 'truncated': True, 'reply_count': '64', 'quote_count': '268', 'user': {'id': '872824656625061888', 'id_str': '872824656625061888', 'name': 'Barbie ॐ', 'screen_name': 'itsbarbielx', 'location': 'Miami, FL', 'description': 'army vet || ⚖️ || @ticopullsnohoes🖤', 'protected': False, 'verified': False, 'followers_count': '504', 'friends_count': '285', 'listed_count': '2', 'favourites_count': '2617', 'statuses_count': '27968', 'created_at': '2017-06-08 14:36:29+00:00', 'geo_enabled': True, 'lang': 'en', 'contributors_enabled': False, 'is_translator': False, 'translator_type': 'none', 'profile_background_color': 'F5F8FA', 'profile_background_tile': False, 'profile_link_color': '1DA1F2', 'profile_sidebar_border_color': 'C0DEED', 'profile_sidebar_fill_color': 'DDEEF6', 'profile_text_color': '333333', 'profile_use_background_image': True, 'profile_image_url': 'http://pbs.twimg.com/profile_images/1066137571506429953/2C3Tfg8m_normal.jpg', 'profile_image_url_https': 'https://pbs.twimg.com/profile_images/1066137571506429953/2C3Tfg8m_normal.jpg', 'profile_banner_url': 'https://pbs.twimg.com/profile_banners/872824656625061888/1542262613', 'default_profile': True, 'default_profile_image': False}, 'place': {'id': '629f4a26fed69cd3', 'url': 'https://api.twitter.com/1.1/geo/id/629f4a26fed69cd3.json', 'place_type': 'city', 'name': 'Hialeah', 'full_name': 'Hialeah, FL', 'country_code': 'US', 'country': 'United States', 'bounding_box': {'type': 'Polygon', 'zipcode': '33172', 'coordinates': [-80.356354, 25.806057, -80.356354, 25.909407, -80.252971, 25.909407, -80.252971, 25.806057]}}, 'retweet_count': '4285', 'favorite_count': '14483', 'entities': {'urls': [{'url': 'https://t.co/8iRLa29chH', 'expanded_url': 'https://twitter.com/i/web/status/1066813398158053376', 'display_url': 'twitter.com/i/web/status/1…', 'indices': ['117', '140']}]}, 'favorited': False, 'retweeted': False, 'filter_level': 'low', 'lang': 'en'}, 'entities': {'user_mentions': [{'screen_name': 'itsbarbielx', 'name': 'Barbie ॐ', 'id': '872824656625061888', 'id_str': '872824656625061888', 'indices': ['3', '15']}]}, 'favorited': False, 'retweeted': False, 'timestamp_ms': '1543342767864', 'filter_level': 'low', 'lang': 'en'}\n"
     ]
    }
   ],
   "source": [
    "print(new_values)"
   ]
  },
  {
   "cell_type": "code",
   "execution_count": 63,
   "metadata": {},
   "outputs": [
    {
     "name": "stdout",
     "output_type": "stream",
     "text": [
      "{'created_at': '2018-11-27 18:19:27 UTC', 'id': '1067483055080775680', 'id_str': '1067483055080775680', 'text': \"RT @itsbarbielx: Do y'all report your friends when they do rapey shit? or your homeboy who sells fentanyl cut cocaine? or your other boy th…\", 'source': '<a href=\"http://twitter.com/download/iphone\" rel=\"nofollow\">Twitter for iPhone</a>', 'truncated': False, 'user': {'id': '1604723990', 'id_str': '1604723990', 'name': 'Lupita ✨', 'screen_name': 'lupitaa_17', 'location': 'Detroit, MI', 'description': '18 😛| HFC 📚', 'protected': False, 'verified': False, 'followers_count': '1547', 'friends_count': '990', 'listed_count': '2', 'favourites_count': '42375', 'statuses_count': '50397', 'created_at': '2013-07-19 00:57:44 UTC', 'geo_enabled': True, 'lang': 'en', 'contributors_enabled': False, 'is_translator': False, 'translator_type': 'none', 'profile_background_color': 'C0DEED', 'profile_background_image_url': 'http://abs.twimg.com/images/themes/theme1/bg.png', 'profile_background_image_url_https': 'https://abs.twimg.com/images/themes/theme1/bg.png', 'profile_background_tile': False, 'profile_link_color': '1DA1F2', 'profile_sidebar_border_color': 'C0DEED', 'profile_sidebar_fill_color': 'DDEEF6', 'profile_text_color': '333333', 'profile_use_background_image': True, 'profile_image_url': 'http://pbs.twimg.com/profile_images/1057569127815147520/PQqD5MP3_normal.jpg', 'profile_image_url_https': 'https://pbs.twimg.com/profile_images/1057569127815147520/PQqD5MP3_normal.jpg', 'profile_banner_url': 'https://pbs.twimg.com/profile_banners/1604723990/1538624865', 'default_profile': True, 'default_profile_image': False}, 'retweeted_status': {'created_at': '2018-11-25 21:58:29 UTC', 'id': '1066813398158053376', 'id_str': '1066813398158053376', 'text': \"Do y'all report your friends when they do rapey shit? or your homeboy who sells fentanyl cut cocaine? or your other… https://t.co/8iRLa29chH\", 'source': '<a href=\"http://twitter.com/download/iphone\" rel=\"nofollow\">Twitter for iPhone</a>', 'truncated': True, 'reply_count': '64', 'quote_count': '268', 'user': {'id': '872824656625061888', 'id_str': '872824656625061888', 'name': 'Barbie ॐ', 'screen_name': 'itsbarbielx', 'location': 'Miami, FL', 'description': 'army vet || ⚖️ || @ticopullsnohoes🖤', 'protected': False, 'verified': False, 'followers_count': '504', 'friends_count': '285', 'listed_count': '2', 'favourites_count': '2617', 'statuses_count': '27968', 'created_at': '2017-06-08 14:36:29 UTC', 'geo_enabled': True, 'lang': 'en', 'contributors_enabled': False, 'is_translator': False, 'translator_type': 'none', 'profile_background_color': 'F5F8FA', 'profile_background_tile': False, 'profile_link_color': '1DA1F2', 'profile_sidebar_border_color': 'C0DEED', 'profile_sidebar_fill_color': 'DDEEF6', 'profile_text_color': '333333', 'profile_use_background_image': True, 'profile_image_url': 'http://pbs.twimg.com/profile_images/1066137571506429953/2C3Tfg8m_normal.jpg', 'profile_image_url_https': 'https://pbs.twimg.com/profile_images/1066137571506429953/2C3Tfg8m_normal.jpg', 'profile_banner_url': 'https://pbs.twimg.com/profile_banners/872824656625061888/1542262613', 'default_profile': True, 'default_profile_image': False}, 'place': {'id': '629f4a26fed69cd3', 'url': 'https://api.twitter.com/1.1/geo/id/629f4a26fed69cd3.json', 'place_type': 'city', 'name': 'Hialeah', 'full_name': 'Hialeah, FL', 'country_code': 'US', 'country': 'United States', 'bounding_box': {'type': 'Polygon', 'coordinates': [-80.356354, 25.806057, -80.356354, 25.909407, -80.252971, 25.909407, -80.252971, 25.806057]}}, 'retweet_count': '4285', 'favorite_count': '14483', 'entities': {'hashtags': [], 'trends': [], 'urls': [{'url': 'https://t.co/8iRLa29chH', 'expanded_url': 'https://twitter.com/i/web/status/1066813398158053376', 'display_url': 'twitter.com/i/web/status/1…', 'indices': ['117', '140']}], 'user_mentions': [], 'symbols': [], 'media': []}, 'favorited': False, 'retweeted': False, 'filter_level': 'low', 'lang': 'en'}, 'entities': {'hashtags': [], 'trends': [], 'urls': [], 'user_mentions': [{'screen_name': 'itsbarbielx', 'name': 'Barbie ॐ', 'id': '872824656625061888', 'id_str': '872824656625061888', 'indices': ['3', '15']}], 'symbols': [], 'media': []}, 'favorited': False, 'retweeted': False, 'timestamp_ms': '1543342767864', 'filter_level': 'low', 'lang': 'en'}\n"
     ]
    }
   ],
   "source": [
    "print(d)"
   ]
  },
  {
   "cell_type": "code",
   "execution_count": 23,
   "metadata": {},
   "outputs": [
    {
     "name": "stdout",
     "output_type": "stream",
     "text": [
      "<class 'dict'>\n"
     ]
    }
   ],
   "source": [
    "import json\n",
    "with open('noCoordinates.json', encoding=\"utf8\") as json_data:\n",
    "    d = json.load(json_data)\n",
    "    json_data.close()\n",
    "    \n",
    "print(type(d))"
   ]
  },
  {
   "cell_type": "code",
   "execution_count": 24,
   "metadata": {},
   "outputs": [
    {
     "data": {
      "text/plain": [
       "{'created_at': '2018-11-27 18:18:45+00:00',\n",
       " 'id': '1067482877431042049',\n",
       " 'id_str': '1067482877431042049',\n",
       " 'text': 'RT @justjohnie_: I still want to see somebody do this in person https://t.co/oD8QOdHwGl',\n",
       " 'source': '<a href=\"http://twitter.com/download/iphone\" rel=\"nofollow\">Twitter for iPhone</a>',\n",
       " 'truncated': False,\n",
       " 'user': {'id': '1560734438',\n",
       "  'id_str': '1560734438',\n",
       "  'name': 'JD.',\n",
       "  'screen_name': 'faithmuva',\n",
       "  'description': 'God 1st.',\n",
       "  'protected': False,\n",
       "  'verified': False,\n",
       "  'followers_count': '882',\n",
       "  'friends_count': '763',\n",
       "  'favourites_count': '7128',\n",
       "  'statuses_count': '20490',\n",
       "  'created_at': '2013-07-01 14:57:09+00:00',\n",
       "  'geo_enabled': True,\n",
       "  'lang': 'en',\n",
       "  'contributors_enabled': False,\n",
       "  'is_translator': False,\n",
       "  'translator_type': 'none',\n",
       "  'profile_background_color': 'C0DEED',\n",
       "  'profile_background_image_url': 'http://abs.twimg.com/images/themes/theme1/bg.png',\n",
       "  'profile_background_image_url_https': 'https://abs.twimg.com/images/themes/theme1/bg.png',\n",
       "  'profile_background_tile': False,\n",
       "  'profile_link_color': '1DA1F2',\n",
       "  'profile_sidebar_border_color': 'C0DEED',\n",
       "  'profile_sidebar_fill_color': 'DDEEF6',\n",
       "  'profile_text_color': '333333',\n",
       "  'profile_use_background_image': True,\n",
       "  'profile_image_url': 'http://pbs.twimg.com/profile_images/1067295119693492224/_sZQCoiA_normal.jpg',\n",
       "  'profile_image_url_https': 'https://pbs.twimg.com/profile_images/1067295119693492224/_sZQCoiA_normal.jpg',\n",
       "  'profile_banner_url': 'https://pbs.twimg.com/profile_banners/1560734438/1541246713',\n",
       "  'default_profile': True,\n",
       "  'default_profile_image': False},\n",
       " 'retweeted_status': {'created_at': '2018-11-27 07:10:17+00:00',\n",
       "  'id': '1067314653825511429',\n",
       "  'id_str': '1067314653825511429',\n",
       "  'text': 'I still want to see somebody do this in person https://t.co/oD8QOdHwGl',\n",
       "  'source': '<a href=\"http://twitter.com\" rel=\"nofollow\">Twitter Web Client</a>',\n",
       "  'truncated': False,\n",
       "  'reply_count': '2',\n",
       "  'user': {'id': '793946376',\n",
       "   'id_str': '793946376',\n",
       "   'name': 'ðŸ\\x90ŽðŸ\\x90ŽðŸ\\x90Ž',\n",
       "   'screen_name': 'justjohnie_',\n",
       "   'protected': False,\n",
       "   'verified': False,\n",
       "   'followers_count': '1073',\n",
       "   'friends_count': '799',\n",
       "   'listed_count': '4',\n",
       "   'favourites_count': '16',\n",
       "   'statuses_count': '10752',\n",
       "   'created_at': '2012-08-31 14:11:30+00:00',\n",
       "   'geo_enabled': True,\n",
       "   'lang': 'en',\n",
       "   'contributors_enabled': False,\n",
       "   'is_translator': False,\n",
       "   'translator_type': 'none',\n",
       "   'profile_background_color': '000000',\n",
       "   'profile_background_image_url': 'http://abs.twimg.com/images/themes/theme1/bg.png',\n",
       "   'profile_background_image_url_https': 'https://abs.twimg.com/images/themes/theme1/bg.png',\n",
       "   'profile_background_tile': False,\n",
       "   'profile_link_color': '111111',\n",
       "   'profile_sidebar_border_color': '000000',\n",
       "   'profile_sidebar_fill_color': '000000',\n",
       "   'profile_text_color': '000000',\n",
       "   'profile_use_background_image': False,\n",
       "   'profile_image_url': 'http://pbs.twimg.com/profile_images/936001255729717249/LwsLHS-h_normal.jpg',\n",
       "   'profile_image_url_https': 'https://pbs.twimg.com/profile_images/936001255729717249/LwsLHS-h_normal.jpg',\n",
       "   'profile_banner_url': 'https://pbs.twimg.com/profile_banners/793946376/1540366676',\n",
       "   'default_profile': False,\n",
       "   'default_profile_image': False},\n",
       "  'retweet_count': '20',\n",
       "  'favorite_count': '30',\n",
       "  'entities': {'urls': [{'url': 'https://t.co/oD8QOdHwGl',\n",
       "     'expanded_url': 'https://twitter.com/AbelKono/status/1065843165834276866',\n",
       "     'display_url': 'twitter.com/AbelKono/statuâ€¦',\n",
       "     'indices': ['47', '70']}]},\n",
       "  'favorited': False,\n",
       "  'retweeted': False,\n",
       "  'possibly_sensitive': False,\n",
       "  'filter_level': 'low',\n",
       "  'lang': 'en'},\n",
       " 'entities': {'urls': [{'url': 'https://t.co/oD8QOdHwGl',\n",
       "    'expanded_url': 'https://twitter.com/AbelKono/status/1065843165834276866',\n",
       "    'display_url': 'twitter.com/AbelKono/statuâ€¦',\n",
       "    'indices': ['64', '87']}],\n",
       "  'user_mentions': [{'screen_name': 'justjohnie_',\n",
       "    'name': 'ðŸ\\x90ŽðŸ\\x90ŽðŸ\\x90Ž',\n",
       "    'id': '793946376',\n",
       "    'id_str': '793946376',\n",
       "    'indices': ['3', '15']}]},\n",
       " 'favorited': False,\n",
       " 'retweeted': False,\n",
       " 'timestamp_ms': '1543342725509',\n",
       " 'possibly_sensitive': False,\n",
       " 'filter_level': 'low',\n",
       " 'lang': 'en'}"
      ]
     },
     "execution_count": 24,
     "metadata": {},
     "output_type": "execute_result"
    }
   ],
   "source": [
    "cleanup(d)"
   ]
  },
  {
   "cell_type": "code",
   "execution_count": null,
   "metadata": {},
   "outputs": [],
   "source": []
  }
 ],
 "metadata": {
  "kernelspec": {
   "display_name": "Python 3",
   "language": "python",
   "name": "python3"
  },
  "language_info": {
   "codemirror_mode": {
    "name": "ipython",
    "version": 3
   },
   "file_extension": ".py",
   "mimetype": "text/x-python",
   "name": "python",
   "nbconvert_exporter": "python",
   "pygments_lexer": "ipython3",
   "version": "3.6.7"
  }
 },
 "nbformat": 4,
 "nbformat_minor": 2
}
